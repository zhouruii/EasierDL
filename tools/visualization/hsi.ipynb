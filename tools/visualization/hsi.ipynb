{
 "cells": [
  {
   "cell_type": "code",
   "execution_count": 1,
   "id": "initial_id",
   "metadata": {
    "collapsed": true,
    "ExecuteTime": {
     "end_time": "2025-05-10T07:46:46.192573Z",
     "start_time": "2025-05-10T07:46:45.694228Z"
    }
   },
   "outputs": [
    {
     "name": "stdout",
     "output_type": "stream",
     "text": [
      "Using matplotlib backend: <object object at 0x7f6494089f50>\n",
      "%pylab is deprecated, use %matplotlib inline and import the required libraries.\n",
      "Populating the interactive namespace from numpy and matplotlib\n"
     ]
    }
   ],
   "source": [
    "%pylab\n",
    "import numpy as np\n",
    "from spectral import view_cube"
   ]
  },
  {
   "cell_type": "code",
   "outputs": [
    {
     "ename": "ImportError",
     "evalue": "Required dependency wx.glcanvas not present",
     "output_type": "error",
     "traceback": [
      "\u001B[0;31m---------------------------------------------------------------------------\u001B[0m",
      "\u001B[0;31mImportError\u001B[0m                               Traceback (most recent call last)",
      "File \u001B[0;32m~/anaconda3/envs/Uchiha/lib/python3.9/site-packages/spectral/graphics/hypercube.py:41\u001B[0m\n\u001B[1;32m     40\u001B[0m \u001B[38;5;28;01mtry\u001B[39;00m:\n\u001B[0;32m---> 41\u001B[0m     \u001B[38;5;28;01mimport\u001B[39;00m\u001B[38;5;250m \u001B[39m\u001B[38;5;21;01mwx\u001B[39;00m\n\u001B[1;32m     42\u001B[0m     \u001B[38;5;28;01mfrom\u001B[39;00m\u001B[38;5;250m \u001B[39m\u001B[38;5;21;01mwx\u001B[39;00m\u001B[38;5;250m \u001B[39m\u001B[38;5;28;01mimport\u001B[39;00m glcanvas\n",
      "File \u001B[0;32m~/anaconda3/envs/Uchiha/lib/python3.9/site-packages/wx/__init__.py:17\u001B[0m\n\u001B[1;32m     15\u001B[0m \u001B[38;5;66;03m# Import all items from the core wxPython module so they appear in the wx\u001B[39;00m\n\u001B[1;32m     16\u001B[0m \u001B[38;5;66;03m# package namespace.\u001B[39;00m\n\u001B[0;32m---> 17\u001B[0m \u001B[38;5;28;01mfrom\u001B[39;00m\u001B[38;5;250m \u001B[39m\u001B[38;5;21;01mwx\u001B[39;00m\u001B[38;5;21;01m.\u001B[39;00m\u001B[38;5;21;01mcore\u001B[39;00m\u001B[38;5;250m \u001B[39m\u001B[38;5;28;01mimport\u001B[39;00m \u001B[38;5;241m*\u001B[39m\n\u001B[1;32m     20\u001B[0m \u001B[38;5;66;03m# Clean up the package namespace\u001B[39;00m\n",
      "File \u001B[0;32m~/anaconda3/envs/Uchiha/lib/python3.9/site-packages/wx/core.py:12\u001B[0m\n\u001B[1;32m      6\u001B[0m \u001B[38;5;124;03m\"\"\"\u001B[39;00m\n\u001B[1;32m      7\u001B[0m \u001B[38;5;124;03mThe classes in this module are the most commonly used classes for wxPython,\u001B[39;00m\n\u001B[1;32m      8\u001B[0m \u001B[38;5;124;03mwhich is why they have been made visible in the core `wx` namespace.\u001B[39;00m\n\u001B[1;32m      9\u001B[0m \u001B[38;5;124;03mEverything you need for building typical GUI applications is here.\u001B[39;00m\n\u001B[1;32m     10\u001B[0m \u001B[38;5;124;03m\"\"\"\u001B[39;00m\n\u001B[0;32m---> 12\u001B[0m \u001B[38;5;28;01mfrom\u001B[39;00m\u001B[38;5;250m \u001B[39m\u001B[38;5;21;01m.\u001B[39;00m\u001B[38;5;21;01m_core\u001B[39;00m\u001B[38;5;250m \u001B[39m\u001B[38;5;28;01mimport\u001B[39;00m \u001B[38;5;241m*\u001B[39m\n\u001B[1;32m     14\u001B[0m \u001B[38;5;66;03m#-=-=-=-=-=-=-=-=-=-=-=-=-=-=-=-=-=-=-=-=-=-=-=-=-=-=-=-=-=-=-=-=-=-=-=-=-=-=\u001B[39;00m\n\u001B[1;32m     15\u001B[0m \u001B[38;5;66;03m# This code block was included from src/core_ex.py\u001B[39;00m\n",
      "\u001B[0;31mImportError\u001B[0m: /lib/x86_64-linux-gnu/libp11-kit.so.0: undefined symbol: ffi_type_pointer, version LIBFFI_BASE_7.0",
      "\nDuring handling of the above exception, another exception occurred:\n",
      "\u001B[0;31mImportError\u001B[0m                               Traceback (most recent call last)",
      "Cell \u001B[0;32mIn[2], line 7\u001B[0m\n\u001B[1;32m      4\u001B[0m noisy \u001B[38;5;241m=\u001B[39m np\u001B[38;5;241m.\u001B[39mload(lq_path)\n\u001B[1;32m      6\u001B[0m \u001B[38;5;66;03m# 调用可视化函数\u001B[39;00m\n\u001B[0;32m----> 7\u001B[0m \u001B[43mview_cube\u001B[49m\u001B[43m(\u001B[49m\u001B[43mnoisy\u001B[49m\u001B[43m,\u001B[49m\u001B[43m \u001B[49m\u001B[43mbands\u001B[49m\u001B[43m \u001B[49m\u001B[38;5;241;43m=\u001B[39;49m\u001B[43m \u001B[49m\u001B[43m[\u001B[49m\u001B[38;5;241;43m36\u001B[39;49m\u001B[43m,\u001B[49m\u001B[43m \u001B[49m\u001B[38;5;241;43m19\u001B[39;49m\u001B[43m,\u001B[49m\u001B[43m \u001B[49m\u001B[38;5;241;43m8\u001B[39;49m\u001B[43m]\u001B[49m\u001B[43m,\u001B[49m\u001B[43m \u001B[49m\u001B[43mshow\u001B[49m\u001B[43m \u001B[49m\u001B[38;5;241;43m=\u001B[39;49m\u001B[43m \u001B[49m\u001B[38;5;28;43;01mFalse\u001B[39;49;00m\u001B[43m)\u001B[49m\n\u001B[1;32m      8\u001B[0m \u001B[38;5;28mprint\u001B[39m(\u001B[38;5;124m\"\u001B[39m\u001B[38;5;124mdone\u001B[39m\u001B[38;5;124m\"\u001B[39m)\n",
      "File \u001B[0;32m~/anaconda3/envs/Uchiha/lib/python3.9/site-packages/spectral/graphics/graphics.py:151\u001B[0m, in \u001B[0;36mview_cube\u001B[0;34m(data, *args, **kwargs)\u001B[0m\n\u001B[1;32m    103\u001B[0m \u001B[38;5;28;01mdef\u001B[39;00m\u001B[38;5;250m \u001B[39m\u001B[38;5;21mview_cube\u001B[39m(data, \u001B[38;5;241m*\u001B[39margs, \u001B[38;5;241m*\u001B[39m\u001B[38;5;241m*\u001B[39mkwargs):\n\u001B[1;32m    104\u001B[0m \u001B[38;5;250m    \u001B[39m\u001B[38;5;124;03m'''Renders an interactive 3D hypercube in a new window.\u001B[39;00m\n\u001B[1;32m    105\u001B[0m \n\u001B[1;32m    106\u001B[0m \u001B[38;5;124;03m    Arguments:\u001B[39;00m\n\u001B[0;32m   (...)\u001B[0m\n\u001B[1;32m    149\u001B[0m \u001B[38;5;124;03m    to accept keyboard input.\u001B[39;00m\n\u001B[1;32m    150\u001B[0m \u001B[38;5;124;03m    '''\u001B[39;00m\n\u001B[0;32m--> 151\u001B[0m     \u001B[38;5;28;01mfrom\u001B[39;00m\u001B[38;5;250m \u001B[39m\u001B[38;5;21;01m.\u001B[39;00m\u001B[38;5;21;01mhypercube\u001B[39;00m\u001B[38;5;250m \u001B[39m\u001B[38;5;28;01mimport\u001B[39;00m HypercubeWindow\n\u001B[1;32m    153\u001B[0m     \u001B[38;5;28;01mif\u001B[39;00m \u001B[38;5;129;01mnot\u001B[39;00m running_ipython():\n\u001B[1;32m    154\u001B[0m         warn_no_ipython()\n",
      "File \u001B[0;32m~/anaconda3/envs/Uchiha/lib/python3.9/site-packages/spectral/graphics/hypercube.py:44\u001B[0m\n\u001B[1;32m     42\u001B[0m     \u001B[38;5;28;01mfrom\u001B[39;00m\u001B[38;5;250m \u001B[39m\u001B[38;5;21;01mwx\u001B[39;00m\u001B[38;5;250m \u001B[39m\u001B[38;5;28;01mimport\u001B[39;00m glcanvas\n\u001B[1;32m     43\u001B[0m \u001B[38;5;28;01mexcept\u001B[39;00m \u001B[38;5;167;01mImportError\u001B[39;00m:\n\u001B[0;32m---> 44\u001B[0m     \u001B[38;5;28;01mraise\u001B[39;00m \u001B[38;5;167;01mImportError\u001B[39;00m(\u001B[38;5;124m\"\u001B[39m\u001B[38;5;124mRequired dependency wx.glcanvas not present\u001B[39m\u001B[38;5;124m\"\u001B[39m)\n\u001B[1;32m     46\u001B[0m \u001B[38;5;28;01mfrom\u001B[39;00m\u001B[38;5;250m \u001B[39m\u001B[38;5;21;01m.\u001B[39;00m\u001B[38;5;21;01m.\u001B[39;00m\u001B[38;5;250m \u001B[39m\u001B[38;5;28;01mimport\u001B[39;00m settings\n\u001B[1;32m     47\u001B[0m \u001B[38;5;28;01mfrom\u001B[39;00m\u001B[38;5;250m \u001B[39m\u001B[38;5;21;01m.\u001B[39;00m\u001B[38;5;21;01m.\u001B[39;00m\u001B[38;5;21;01mimage\u001B[39;00m\u001B[38;5;250m \u001B[39m\u001B[38;5;28;01mimport\u001B[39;00m Image\n",
      "\u001B[0;31mImportError\u001B[0m: Required dependency wx.glcanvas not present"
     ]
    }
   ],
   "source": [
    "lq_path = '/home/disk2/ZR/datasets/AVIRIS/512/rain/storm/f130804t01p00r04rdn_e_23.npy'\n",
    "gt_path = '/home/disk2/ZR/datasets/AVIRIS/512/gt/f130804t01p00r04rdn_e_23.npy'\n",
    "clean = np.load(gt_path)\n",
    "noisy = np.load(lq_path)\n",
    "\n",
    "# 调用可视化函数\n",
    "view_cube(noisy, bands = [36, 19, 8], show = False)\n",
    "print(\"done\")"
   ],
   "metadata": {
    "collapsed": false,
    "ExecuteTime": {
     "end_time": "2025-05-10T07:46:56.379019Z",
     "start_time": "2025-05-10T07:46:54.114801Z"
    }
   },
   "id": "9526d0b24002b47c",
   "execution_count": 2
  },
  {
   "cell_type": "code",
   "outputs": [],
   "source": [
    "from mayavi import mlab\n",
    "mlab.savefig('hsi_cube.png', magnification=2) \n",
    "print(\"success\")# magnification控制分辨率\n",
    "mlab.close(all=True)  # 关闭所有mayavi场景"
   ],
   "metadata": {
    "collapsed": false,
    "ExecuteTime": {
     "start_time": "2025-05-10T07:30:55.358793Z"
    }
   },
   "id": "f9794c03fddfea0e"
  },
  {
   "cell_type": "code",
   "outputs": [],
   "source": [],
   "metadata": {
    "collapsed": false
   },
   "id": "9a2e1e62e0605f47"
  }
 ],
 "metadata": {
  "kernelspec": {
   "display_name": "Python 3",
   "language": "python",
   "name": "python3"
  },
  "language_info": {
   "codemirror_mode": {
    "name": "ipython",
    "version": 2
   },
   "file_extension": ".py",
   "mimetype": "text/x-python",
   "name": "python",
   "nbconvert_exporter": "python",
   "pygments_lexer": "ipython2",
   "version": "2.7.6"
  }
 },
 "nbformat": 4,
 "nbformat_minor": 5
}
