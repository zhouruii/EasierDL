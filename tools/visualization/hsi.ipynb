{
 "cells": [
  {
   "cell_type": "code",
   "execution_count": 1,
   "id": "initial_id",
   "metadata": {
    "collapsed": true,
    "ExecuteTime": {
     "end_time": "2025-05-22T03:23:58.083121Z",
     "start_time": "2025-05-22T03:23:57.636897Z"
    }
   },
   "outputs": [
    {
     "name": "stdout",
     "output_type": "stream",
     "text": [
      "Using matplotlib backend: <object object at 0x0000028E769426A0>\n"
     ]
    }
   ],
   "source": [
    "%matplotlib\n",
    "import numpy as np\n",
    "import spectral"
   ]
  },
  {
   "cell_type": "code",
   "outputs": [],
   "source": [
    "lq_path = r\"E:\\datasets\\f130804t01p00r06rdn_e_35.npy\"\n",
    "gt_path = r\"E:\\datasets\\f130804t01p00r06rdn_e_35 (1).npy\"\n",
    "noisy = np.load(lq_path)\n",
    "clean = np.load(gt_path)\n",
    "_bands = [36, 19, 8]"
   ],
   "metadata": {
    "collapsed": false,
    "ExecuteTime": {
     "end_time": "2025-05-22T03:23:58.238956Z",
     "start_time": "2025-05-22T03:23:58.084120Z"
    }
   },
   "id": "89f484e787eac97b",
   "execution_count": 2
  },
  {
   "cell_type": "code",
   "outputs": [
    {
     "name": "stderr",
     "output_type": "stream",
     "text": [
      "D:\\LenovoSoftstore\\Anaconda\\envs\\experiment\\lib\\site-packages\\spectral\\graphics\\graphics.py:757: UserWarning: \n",
      "There is no current wx.App object - creating one now.\n",
      "  warnings.warn('\\nThere is no current wx.App object - creating one now.',\n"
     ]
    },
    {
     "data": {
      "text/plain": "<spectral.graphics.graphics.WindowProxy at 0x28e7fdd7040>"
     },
     "execution_count": 3,
     "metadata": {},
     "output_type": "execute_result"
    }
   ],
   "source": [
    "# ipython --pylab=WX\n",
    "spectral.view_cube(clean, bands=_bands, background=(1, 1, 1))"
   ],
   "metadata": {
    "collapsed": false,
    "ExecuteTime": {
     "end_time": "2025-05-22T03:23:58.758434Z",
     "start_time": "2025-05-22T03:23:58.239957Z"
    }
   },
   "id": "5fb45698f1593528",
   "execution_count": 3
  },
  {
   "cell_type": "code",
   "outputs": [],
   "source": [],
   "metadata": {
    "collapsed": false,
    "ExecuteTime": {
     "end_time": "2025-05-22T03:23:58.774061Z",
     "start_time": "2025-05-22T03:23:58.758939Z"
    }
   },
   "id": "a0da87f3a74dd7ad",
   "execution_count": 3
  }
 ],
 "metadata": {
  "kernelspec": {
   "display_name": "Python 3",
   "language": "python",
   "name": "python3"
  },
  "language_info": {
   "codemirror_mode": {
    "name": "ipython",
    "version": 2
   },
   "file_extension": ".py",
   "mimetype": "text/x-python",
   "name": "python",
   "nbconvert_exporter": "python",
   "pygments_lexer": "ipython2",
   "version": "2.7.6"
  }
 },
 "nbformat": 4,
 "nbformat_minor": 5
}
